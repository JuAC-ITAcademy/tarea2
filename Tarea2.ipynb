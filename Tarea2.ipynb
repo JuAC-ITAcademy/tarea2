{
 "cells": [
  {
   "cell_type": "markdown",
   "metadata": {},
   "source": [
    "# Tarea 2. Listas y diccionarios."
   ]
  },
  {
   "cell_type": "markdown",
   "metadata": {},
   "source": [
    "## Ejercicio 1.\n",
    "\n",
    "Crea una llista que agrupi els mesos de l’any en trimestres (1T: Gener, Febrer i Març, 2T: Abril, Maig, Juny...), és a dir, una llista amb 4 llistes dins."
   ]
  },
  {
   "cell_type": "code",
   "execution_count": null,
   "metadata": {},
   "outputs": [],
   "source": [
    "trimestre=[['Gener', 'Febrer','Març'],['Abril','Maig','Juny'],\n",
    "           ['juliol','agost','setembre'],['octubre','novembre','desembre']]"
   ]
  },
  {
   "cell_type": "markdown",
   "metadata": {},
   "source": [
    "## Ejercicio 2.\n",
    "\n",
    "Crea un codi que et permeti accedir a:\n",
    "\n",
    "+ El segon més del primer trimestre\n",
    "+ Els mesos del primer trimestre\n",
    "+ Setembre i octubre"
   ]
  },
  {
   "cell_type": "code",
   "execution_count": null,
   "metadata": {},
   "outputs": [],
   "source": [
    "#El segon més del primer trimestre\n",
    "trimestre[0][1]"
   ]
  },
  {
   "cell_type": "code",
   "execution_count": null,
   "metadata": {},
   "outputs": [],
   "source": [
    "#Els mesos del primer trimestre\n",
    "trimestre[0]"
   ]
  },
  {
   "cell_type": "code",
   "execution_count": null,
   "metadata": {},
   "outputs": [],
   "source": [
    "#Setembre i octubre\n",
    "[trimestre[2][2],trimestre[3][0]]"
   ]
  },
  {
   "cell_type": "markdown",
   "metadata": {},
   "source": [
    "## Ejercicio 3.\n",
    "\n",
    "Crea una llista amb nombres desordenats i respon a les següents preguntes:\n",
    "\n",
    "- Quants números hi ha?\n",
    "- Quantes vegades apareix el número 3\n",
    "- Quantes vegades apareixen els nombres 3 i 4?\n",
    "- Quin és el número més gran?\n",
    "- Quins són els 3 números més petits?\n",
    "- Quin és el rang d’aquesta llista?"
   ]
  },
  {
   "cell_type": "code",
   "execution_count": null,
   "metadata": {},
   "outputs": [],
   "source": [
    "import random as rd\n",
    "rd.seed(123)\n",
    "\n",
    "lista=[]\n",
    "for i in range(30):\n",
    "    a=rd.randint(0,10)\n",
    "    lista.append(a)\n",
    "print(lista)"
   ]
  },
  {
   "cell_type": "code",
   "execution_count": null,
   "metadata": {},
   "outputs": [],
   "source": [
    "#Número que quiero contar\n",
    "valor=3\n",
    "\n",
    "# Puedo hacerlo de dos maneras:\n",
    "\n",
    "# Bucle for que recorra la lista y cuente las veces que aparece el número\n",
    "n=0\n",
    "for numero in lista:\n",
    "    if numero==valor:\n",
    "        n+=1\n",
    "print(n)\n",
    "\n",
    "# Usando comprenhension list creo una lista con todos los 3 de la lista anterior y con el método len cuento el número de veces que se repite\n",
    "len([numero for numero in lista if numero==valor])\n"
   ]
  },
  {
   "cell_type": "code",
   "execution_count": null,
   "metadata": {},
   "outputs": [],
   "source": [
    "#Número que quiero contar\n",
    "valor1=3\n",
    "valor2=4\n",
    "\n",
    "# Usando comprenhension list\n",
    "len([numero for numero in lista if numero==valor1 or numero==valor2])"
   ]
  },
  {
   "cell_type": "code",
   "execution_count": null,
   "metadata": {},
   "outputs": [],
   "source": [
    "# Valor máximo de la lista\n",
    "max(lista)"
   ]
  },
  {
   "cell_type": "code",
   "execution_count": null,
   "metadata": {},
   "outputs": [],
   "source": [
    "# Convertimos la lista en un set para quedarnos con los valores únicos, el set lo pasamos a lista ordenada y seleccionamos los 3 valores inferiores.\n",
    "sorted(set(lista))[0:3]"
   ]
  },
  {
   "cell_type": "code",
   "execution_count": null,
   "metadata": {},
   "outputs": [],
   "source": [
    "# Rango (máximo-minimo)\n",
    "\n",
    "max(lista)-min(lista)"
   ]
  },
  {
   "cell_type": "code",
   "execution_count": null,
   "metadata": {},
   "outputs": [],
   "source": [
    "len(lista)"
   ]
  },
  {
   "cell_type": "markdown",
   "metadata": {},
   "source": [
    "## Ejercicio 4.\n",
    "\n",
    "Crea un diccionari de la següent forma i respon a les preguntes:\n",
    "\n",
    "compra = { \"Pomes\" : {\"Qty\": 5, \"€\": 0.42}, \"Peres\" : {\"Qty\": 3, \"€\": 0.66} }\n",
    "\n",
    "- Afegeix alguna fruita més\n",
    "- Quant han costat les peres en total?\n",
    "- Quantes fruites hem comprat en total?\n",
    "- Quina és la fruita més cara?"
   ]
  },
  {
   "cell_type": "code",
   "execution_count": null,
   "metadata": {},
   "outputs": [],
   "source": [
    "compra = { \"Pomes\" : {\"Qty\": 5, \"€\": 0.42}, \"Peres\" : {\"Qty\": 3, \"€\": 0.66} }"
   ]
  },
  {
   "cell_type": "code",
   "execution_count": null,
   "metadata": {},
   "outputs": [],
   "source": [
    "compra['Kiwis']={\"Qty\": 2, \"€\": 1.18}\n",
    "\n",
    "for fruta,cesta in compra.items():\n",
    "    print('Hem comprat ',cesta['Qty'],' ', fruta,' a ',cesta['€'], '€/kilo')\n"
   ]
  },
  {
   "cell_type": "code",
   "execution_count": null,
   "metadata": {},
   "outputs": [],
   "source": [
    "# Coste peras\n",
    "Coste_peres=compra['Peres']['Qty']*compra['Peres']['€']\n",
    "print('El coste total de las peras es: ',Coste_peres)\n",
    "\n",
    "# Cantidad total \n",
    "cantidad=0\n",
    "for fruta in compra.keys():\n",
    "    cantidad=cantidad+compra[fruta]['Qty']\n",
    "\n",
    "print('La cantidad total de frutas es: ',cantidad)\n"
   ]
  },
  {
   "cell_type": "code",
   "execution_count": null,
   "metadata": {},
   "outputs": [],
   "source": [
    "maximo=0\n",
    "tipo=0\n",
    "for fruta,cesta in compra.items():\n",
    "    if cesta['€']>maximo:\n",
    "        maximo=cesta['€']\n",
    "        tipo=fruta\n",
    "print('La fruta más cara es: ',tipo,' a ',maximo,' €/Kilo')    "
   ]
  }
 ],
 "metadata": {
  "kernelspec": {
   "display_name": "Python 3",
   "language": "python",
   "name": "python3"
  },
  "language_info": {
   "codemirror_mode": {
    "name": "ipython",
    "version": 3
   },
   "file_extension": ".py",
   "mimetype": "text/x-python",
   "name": "python",
   "nbconvert_exporter": "python",
   "pygments_lexer": "ipython3",
   "version": "3.8.5"
  }
 },
 "nbformat": 4,
 "nbformat_minor": 4
}
